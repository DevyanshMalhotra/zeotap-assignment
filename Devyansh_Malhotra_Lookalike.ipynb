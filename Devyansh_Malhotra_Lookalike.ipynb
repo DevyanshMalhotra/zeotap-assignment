{
 "cells": [
  {
   "cell_type": "code",
   "execution_count": 84,
   "metadata": {},
   "outputs": [],
   "source": [
    "import pandas as pd\n",
    "import numpy as np\n",
    "from sklearn.preprocessing import StandardScaler, OneHotEncoder\n",
    "from sklearn.metrics.pairwise import cosine_similarity\n",
    "from sklearn.model_selection import train_test_split\n",
    "from sklearn.metrics import mean_squared_error\n"
   ]
  },
  {
   "cell_type": "code",
   "execution_count": 85,
   "metadata": {},
   "outputs": [],
   "source": [
    "# Load datasets\n",
    "customers = pd.read_csv(\"Customers.csv\")\n",
    "products = pd.read_csv(\"Products.csv\")\n",
    "transactions = pd.read_csv(\"Transactions.csv\")"
   ]
  },
  {
   "cell_type": "code",
   "execution_count": 86,
   "metadata": {},
   "outputs": [],
   "source": [
    "# Convert date columns to datetime format\n",
    "customers['SignupDate'] = pd.to_datetime(customers['SignupDate'], errors='coerce')  \n",
    "transactions['TransactionDate'] = pd.to_datetime(transactions['TransactionDate'], errors='coerce') \n",
    "\n",
    "merged_data = transactions.merge(customers, on=\"CustomerID\").merge(products, on=\"ProductID\")"
   ]
  },
  {
   "cell_type": "markdown",
   "metadata": {},
   "source": [
    "# Feature Engineering"
   ]
  },
  {
   "cell_type": "code",
   "execution_count": 87,
   "metadata": {},
   "outputs": [],
   "source": [
    "# Aggregate customer-level features\n",
    "customer_features = merged_data.groupby('CustomerID').agg(\n",
    "    total_spending=('TotalValue', 'sum'),\n",
    "    num_transactions=('TransactionID', 'count'),\n",
    "    avg_transaction_value=('TotalValue', 'mean'),\n",
    "    most_purchased_category=('Category', lambda x: x.mode()[0]),\n",
    "    most_purchased_product=('ProductName', lambda x: x.mode()[0])\n",
    ").reset_index()"
   ]
  },
  {
   "cell_type": "code",
   "execution_count": 88,
   "metadata": {},
   "outputs": [],
   "source": [
    "# Add region and signup duration (days since signup)\n",
    "customer_features = customer_features.merge(customers[['CustomerID', 'Region', 'SignupDate']], on=\"CustomerID\")\n",
    "customer_features['days_since_signup'] = (pd.Timestamp.now() - customer_features['SignupDate']).dt.days\n"
   ]
  },
  {
   "cell_type": "markdown",
   "metadata": {},
   "source": [
    "# Prepare data for similarity calculation"
   ]
  },
  {
   "cell_type": "code",
   "execution_count": 89,
   "metadata": {},
   "outputs": [],
   "source": [
    "# One-hot encode categorical variables (Region, Most Purchased Category, Most Purchased Product)\n",
    "ohe = OneHotEncoder()\n",
    "categorical_data = ohe.fit_transform(customer_features[['Region', 'most_purchased_category', 'most_purchased_product']]).toarray()"
   ]
  },
  {
   "cell_type": "code",
   "execution_count": 90,
   "metadata": {},
   "outputs": [],
   "source": [
    "# Scale numerical variables (Total Spending, Num Transactions, etc.)\n",
    "scaler = StandardScaler()\n",
    "numerical_data = scaler.fit_transform(customer_features[['total_spending', 'num_transactions', 'avg_transaction_value', 'days_since_signup']])\n"
   ]
  },
  {
   "cell_type": "code",
   "execution_count": 91,
   "metadata": {},
   "outputs": [],
   "source": [
    "# Combine all features into a single matrix\n",
    "feature_matrix = np.hstack((numerical_data, categorical_data))\n"
   ]
  },
  {
   "cell_type": "markdown",
   "metadata": {},
   "source": [
    "# Similarity Calculation"
   ]
  },
  {
   "cell_type": "code",
   "execution_count": 92,
   "metadata": {},
   "outputs": [],
   "source": [
    "# Compute cosine similarity for all customers based on the feature matrix\n",
    "similarity_matrix = cosine_similarity(feature_matrix)\n"
   ]
  },
  {
   "cell_type": "code",
   "execution_count": 93,
   "metadata": {},
   "outputs": [],
   "source": [
    "# Find top 3 lookalikes for each customer\n",
    "lookalike_map = {}\n",
    "customer_ids = customer_features['CustomerID'].tolist()\n",
    "\n",
    "for idx, customer_id in enumerate(customer_ids):\n",
    "    similarity_scores = list(enumerate(similarity_matrix[idx]))\n",
    "    similarity_scores = sorted(similarity_scores, key=lambda x: x[1], reverse=True)\n",
    "    top_lookalikes = [customer_ids[i] for i, _ in similarity_scores[1:4]]  \n",
    "    top_scores = [score for _, score in similarity_scores[1:4]]\n",
    "    lookalike_map[customer_id] = list(zip(top_lookalikes, top_scores))\n"
   ]
  },
  {
   "cell_type": "code",
   "execution_count": 94,
   "metadata": {},
   "outputs": [],
   "source": [
    "# Create Lookalike.csv\n",
    "lookalike_df = pd.DataFrame([{\n",
    "    'cust_id': cust_id,\n",
    "    'lookalikes': lookalikes\n",
    "} for cust_id, lookalikes in lookalike_map.items()])\n"
   ]
  },
  {
   "cell_type": "code",
   "execution_count": 95,
   "metadata": {},
   "outputs": [],
   "source": [
    "# Convert the lookalike data to string format\n",
    "lookalike_df['lookalikes'] = lookalike_df['lookalikes'].apply(lambda x: str(x))\n"
   ]
  },
  {
   "cell_type": "code",
   "execution_count": 96,
   "metadata": {},
   "outputs": [],
   "source": [
    "# Save the lookalike recommendations to a CSV file\n",
    "lookalike_df.to_csv('Devyansh_Malhotra_Lookalike.csv', index=False)\n"
   ]
  },
  {
   "cell_type": "code",
   "execution_count": 97,
   "metadata": {},
   "outputs": [
    {
     "name": "stdout",
     "output_type": "stream",
     "text": [
      "   cust_id                                         lookalikes\n",
      "0    C0001  [('C0184', np.float64(0.8761215291484783)), ('...\n",
      "1    C0002  [('C0134', np.float64(0.8194219742600629)), ('...\n",
      "2    C0003  [('C0076', np.float64(0.8773668040707575)), ('...\n",
      "3    C0004  [('C0165', np.float64(0.8568306366012264)), ('...\n",
      "4    C0005  [('C0007', np.float64(0.7682562421057125)), ('...\n",
      "5    C0006  [('C0187', np.float64(0.9174461063161405)), ('...\n",
      "6    C0007  [('C0140', np.float64(0.859996570815779)), ('C...\n",
      "7    C0008  [('C0065', np.float64(0.697001918948516)), ('C...\n",
      "8    C0009  [('C0010', np.float64(0.7861610722440849)), ('...\n",
      "9    C0010  [('C0198', np.float64(0.7886331415364208)), ('...\n",
      "10   C0011  [('C0153', np.float64(0.6903934653854227)), ('...\n",
      "11   C0012  [('C0195', np.float64(0.7591833626184085)), ('...\n",
      "12   C0013  [('C0087', np.float64(0.7324397704124403)), ('...\n",
      "13   C0014  [('C0151', np.float64(0.850056310540527)), ('C...\n",
      "14   C0015  [('C0036', np.float64(0.7743811202826798)), ('...\n",
      "15   C0016  [('C0067', np.float64(0.8989580240027931)), ('...\n",
      "16   C0017  [('C0075', np.float64(0.7885924476218256)), ('...\n",
      "17   C0018  [('C0046', np.float64(0.8971565836149343)), ('...\n",
      "18   C0019  [('C0121', np.float64(0.7448536186844494)), ('...\n",
      "19   C0020  [('C0026', np.float64(0.7923438783688482)), ('...\n"
     ]
    }
   ],
   "source": [
    "# Display the top 3 lookalikes for the first 20 customers (C0001 to C0020)\n",
    "lookalike_subset = lookalike_df[lookalike_df['cust_id'].isin(customer_ids[:20])]\n",
    "print(lookalike_subset)\n"
   ]
  }
 ],
 "metadata": {
  "kernelspec": {
   "display_name": "env",
   "language": "python",
   "name": "python3"
  },
  "language_info": {
   "codemirror_mode": {
    "name": "ipython",
    "version": 3
   },
   "file_extension": ".py",
   "mimetype": "text/x-python",
   "name": "python",
   "nbconvert_exporter": "python",
   "pygments_lexer": "ipython3",
   "version": "3.11.9"
  }
 },
 "nbformat": 4,
 "nbformat_minor": 2
}
